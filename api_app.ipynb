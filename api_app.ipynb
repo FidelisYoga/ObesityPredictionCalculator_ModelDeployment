{
 "cells": [
  {
   "cell_type": "code",
   "execution_count": 18,
   "id": "958d51ae",
   "metadata": {},
   "outputs": [],
   "source": [
    "import pickle\n",
    "import numpy as np\n",
    "import pandas as pd\n",
    "from fastapi import FastAPI\n",
    "from pydantic import BaseModel"
   ]
  },
  {
   "cell_type": "code",
   "execution_count": 19,
   "id": "5a53c4ab",
   "metadata": {},
   "outputs": [],
   "source": [
    "with open(\"best_model.pkl\", \"rb\") as f:\n",
    "    model = pickle.load(f)"
   ]
  },
  {
   "cell_type": "code",
   "execution_count": 20,
   "id": "e28a55d1",
   "metadata": {},
   "outputs": [],
   "source": [
    "app = FastAPI()"
   ]
  },
  {
   "cell_type": "code",
   "execution_count": 21,
   "id": "626afaf2",
   "metadata": {},
   "outputs": [],
   "source": [
    "from typing import Literal\n",
    "class InputData(BaseModel):\n",
    "    Gender: Literal['Male', 'Female']\n",
    "    Age: int\n",
    "    Height: float\n",
    "    Weight: float\n",
    "    family_history_with_overweight: Literal['yes', 'no']\n",
    "    FAVC: Literal['yes', 'no']\n",
    "    FCVC: float\n",
    "    NCP: float\n",
    "    CAEC: Literal['Sometimes', 'Frequently', 'no', 'Always']\n",
    "    SMOKE: Literal['yes', 'no']\n",
    "    CH2O: float\n",
    "    SCC: Literal['yes', 'no']\n",
    "    FAF: float\n",
    "    TUE: float\n",
    "    CALC: Literal['no', 'Sometimes', 'Frequently', 'Always']\n",
    "    MTRANS: Literal['Public_Transportation', 'Bike', 'Automobile', 'Motorbike', 'Walking']"
   ]
  },
  {
   "cell_type": "code",
   "execution_count": 22,
   "id": "f1290e2f",
   "metadata": {},
   "outputs": [],
   "source": [
    "def predict(data: InputData):\n",
    "    input_df = pd.DataFrame([data.dict()])\n",
    "\n",
    "    input_df = pd.get_dummies(input_df)\n",
    "\n",
    "    with open(\"X_columns.pkl\", \"rb\") as f:\n",
    "        X_columns = pickle.load(f)\n",
    "\n",
    "    input_df = input_df.reindex(columns=X_columns, fill_value=0)\n",
    "\n",
    "    with open(\"scaler.pkl\", \"rb\") as f:\n",
    "        scaler = pickle.load(f)\n",
    "\n",
    "    input_scaled = scaler.transform(input_df)\n",
    "\n",
    "    prediction = model.predict(input_scaled)\n",
    "\n",
    "    with open(\"label_encoder.pkl\", \"rb\") as f:\n",
    "        le = pickle.load(f)\n",
    "\n",
    "    predicted_label = le.inverse_transform(prediction)[0]\n",
    "\n",
    "    return {\"prediction\": predicted_label}"
   ]
  },
  {
   "cell_type": "code",
   "execution_count": 23,
   "id": "29e581b9",
   "metadata": {},
   "outputs": [],
   "source": [
    "@app.post(\"/predict\")\n",
    "def predict_endpoint(data: InputData):\n",
    "    return predict(data)"
   ]
  }
 ],
 "metadata": {
  "kernelspec": {
   "display_name": "Python 3 (ipykernel)",
   "language": "python",
   "name": "python3"
  },
  "language_info": {
   "codemirror_mode": {
    "name": "ipython",
    "version": 3
   },
   "file_extension": ".py",
   "mimetype": "text/x-python",
   "name": "python",
   "nbconvert_exporter": "python",
   "pygments_lexer": "ipython3",
   "version": "3.11.5"
  }
 },
 "nbformat": 4,
 "nbformat_minor": 5
}
